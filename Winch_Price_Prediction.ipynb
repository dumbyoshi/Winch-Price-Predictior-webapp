{
 "cells":[
  {
   "cell_type":"markdown",
   "source":[
    "# winch price prediction"
   ],
   "attachments":{
    
   },
   "metadata":{
    "datalore":{
     "sheet_delimiter":true
    }
   }
  },
  {
   "cell_type":"code",
   "source":[
    "import pickle\n",
    "import numpy as np\n",
    "import warnings\n",
    "warnings.filterwarnings('ignore')"
   ],
   "execution_count":null,
   "outputs":[
    
   ],
   "metadata":{
    "datalore":{
     "type":"CODE",
     "hide_input_from_viewers":false,
     "hide_output_from_viewers":false,
     "node_id":"w8vBR6jioeRqmp1BPPg7hw"
    }
   }
  },
  {
   "cell_type":"code",
   "source":[
    "\n",
    "file = open(\".\/pickle_model.pkl\", 'rb')\n",
    "pickle_model = pickle.load(file)\n",
    "\n",
    "file2 = open(\".\/pickle_cTransformer.pkl\", 'rb')\n",
    "pickle_cTransformer = pickle.load(file2)"
   ],
   "execution_count":null,
   "outputs":[
    
   ],
   "metadata":{
    "datalore":{
     "type":"CODE",
     "hide_input_from_viewers":false,
     "hide_output_from_viewers":false,
     "node_id":"H6JAgeUIaHdgCgQyX4uF8F"
    }
   }
  },
  {
   "cell_type":"code",
   "source":[
    "family_input_values = [\n",
    "    'En-labber', \n",
    "    'To-labber',\n",
    "    'To-labber med spoleapparat',\n",
    "    'To-labber med sandwich',\n",
    "    'A-Frame', \n",
    "    'Moonpool hatch', \n",
    "    'Big winch']\n",
    "\n",
    "family_input = input('Enter Family Input:')\n",
    "total_weight = input('Enter Total Weight:')\n",
    "steel_produced_weight = input('Enter Steel Produced Weight: ')\n",
    "items = input('Enter Number of 160 items:')\n",
    "components_purchased_weight = input('Enter Components Purchased Weight:')\n",
    "swl = input('Enter SWL: ')\n",
    "to_predict = [family_input, total_weight, steel_produced_weight,\n",
    "                  components_purchased_weight, items, swl]\n",
    "to_predict = np.array(to_predict)\n",
    "to_predict = to_predict.reshape(1, 6)\n",
    "to_predict = np.array(pickle_cTransformer.transform(to_predict), dtype=np.float32)\n",
    "estimated_price = pickle_model.predict(to_predict)\n",
    "print(\"Estimated price :\",str(np.round(estimated_price[0], 2)))"
   ],
   "execution_count":null,
   "outputs":[
    {
     "name":"stdout",
     "text":[
      "Enter Family Input: En-labber\n",
      "Enter Total Weight: 123\n",
      "Enter Steel Produced Weight:  12\n",
      "Enter Number of 160 items: 12\n",
      "Enter Components Purchased Weight: 123\n",
      "Enter SWL:  1\n",
      "Estimated price : 67284.0\n"
     ],
     "output_type":"stream"
    }
   ],
   "metadata":{
    "datalore":{
     "type":"CODE",
     "hide_input_from_viewers":false,
     "hide_output_from_viewers":false,
     "node_id":"18UEkAQAIF7vWAuWj1zagM"
    }
   }
  }
 ],
 "metadata":{
  "datalore":{
   "version":1,
   "computation_mode":"JUPYTER",
   "package_manager":"pip",
   "base_environment":"default",
   "packages":[
    
   ]
  }
 },
 "nbformat":4,
 "nbformat_minor":4
}